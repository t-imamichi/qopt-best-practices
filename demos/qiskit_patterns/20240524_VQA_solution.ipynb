{
 "cells": [
  {
   "cell_type": "markdown",
   "id": "eab0b836-430a-42cb-918b-fc819edd4aaa",
   "metadata": {},
   "source": [
    "The University of Tokyo\n",
    "\n",
    "Special Lectures in Information Science Ⅱ\n",
    "\n",
    "Introduction to Near-Term Quantum Computing"
   ]
  },
  {
   "cell_type": "markdown",
   "id": "65f58850-18fd-4344-98a0-7206d8180cc4",
   "metadata": {},
   "source": [
    "# 6. Quantum Algorithms: Variational quantum algorithms\n",
    "\n",
    "Takashi Imamichi (May 24, 2024)"
   ]
  },
  {
   "cell_type": "code",
   "execution_count": 1,
   "id": "f3661de5-8622-4dec-9e82-862b36690e0b",
   "metadata": {},
   "outputs": [
    {
     "data": {
      "text/plain": [
       "'1.0.2'"
      ]
     },
     "execution_count": 1,
     "metadata": {},
     "output_type": "execute_result"
    }
   ],
   "source": [
    "import qiskit\n",
    "\n",
    "qiskit.__version__"
   ]
  },
  {
   "cell_type": "markdown",
   "id": "8f7b4aba-1252-443d-b3e7-093b27959e75",
   "metadata": {},
   "source": [
    "## Exercise\n",
    "\n",
    "Compute the minimum eigenvalue of $Z \\otimes Z$ with VQE."
   ]
  },
  {
   "cell_type": "code",
   "execution_count": 3,
   "id": "d744ba45-0e9c-461d-a0ef-bb0c57d3bf83",
   "metadata": {},
   "outputs": [],
   "source": [
    "import numpy as np\n",
    "from scipy.optimize import minimize\n",
    "\n",
    "from qiskit.circuit import QuantumCircuit, ParameterVector\n",
    "from qiskit.quantum_info import SparsePauliOp\n",
    "from qiskit.primitives import Sampler, Estimator"
   ]
  },
  {
   "cell_type": "code",
   "execution_count": 5,
   "id": "4ce25e68-20d7-4a46-a61f-8ad0f42b7281",
   "metadata": {},
   "outputs": [
    {
     "name": "stdout",
     "output_type": "stream",
     "text": [
      "SparsePauliOp(['ZZ'],\n",
      "              coeffs=[1.+0.j])\n",
      "[[ 1.+0.j  0.+0.j  0.+0.j  0.+0.j]\n",
      " [ 0.+0.j -1.+0.j  0.+0.j  0.+0.j]\n",
      " [ 0.+0.j  0.+0.j -1.+0.j  0.+0.j]\n",
      " [ 0.+0.j  0.+0.j  0.+0.j  1.+0.j]]\n"
     ]
    }
   ],
   "source": [
    "z2 = SparsePauliOp(\"ZZ\")\n",
    "print(z2)\n",
    "print(z2.to_matrix())"
   ]
  },
  {
   "cell_type": "code",
   "execution_count": 6,
   "id": "e9c69bdd-a5f4-4b70-ad41-0479e3d85f35",
   "metadata": {},
   "outputs": [
    {
     "name": "stdout",
     "output_type": "stream",
     "text": [
      "Eigenvalues: [-1. -1.  1.  1.]\n"
     ]
    }
   ],
   "source": [
    "# compute eigenvalues with numpy\n",
    "result = np.linalg.eigh(z2.to_matrix())\n",
    "print(\"Eigenvalues:\", result.eigenvalues)"
   ]
  },
  {
   "cell_type": "code",
   "execution_count": 7,
   "id": "3f18a6cf-40a4-45bd-85e5-e75b0420c8cb",
   "metadata": {},
   "outputs": [
    {
     "data": {
      "image/png": "[encoded data removed]",
      "text/plain": [
       "<Figure size 454.517x284.278 with 1 Axes>"
      ]
     },
     "execution_count": 7,
     "metadata": {},
     "output_type": "execute_result"
    }
   ],
   "source": [
    "# define a variational form\n",
    "param = ParameterVector(\"a\", 6)\n",
    "qc = QuantumCircuit(2, 2)\n",
    "qc.u(param[0], param[1], param[2], 0)\n",
    "qc.u(param[3], param[4], param[5], 1)\n",
    "qc_estimator = qc.copy()\n",
    "qc.measure([0, 1], [0, 1])\n",
    "qc.draw(\"mpl\")"
   ]
  },
  {
   "cell_type": "code",
   "execution_count": 9,
   "id": "ce18451d-f0ac-4ff2-9030-cd9b4d28a9ff",
   "metadata": {},
   "outputs": [],
   "source": [
    "sampler = Sampler()\n",
    "estimator = Estimator()"
   ]
  },
  {
   "cell_type": "code",
   "execution_count": 10,
   "id": "aba5a142-26e8-49a7-a0f1-030373dc9843",
   "metadata": {},
   "outputs": [
    {
     "data": {
      "text/plain": [
       "SamplerResult(quasi_dists=[{0: 0.13337338235898, 1: 0.039804807209214, 2: 0.63677777057509, 3: 0.190044039856716}], metadata=[{}])"
      ]
     },
     "execution_count": 10,
     "metadata": {},
     "output_type": "execute_result"
    }
   ],
   "source": [
    "# compute probabilities of bitstrings with a random parameter values by Sampler\n",
    "result = sampler.run(qc, [1, 2, 3, 4, 5, 6]).result()\n",
    "result"
   ]
  },
  {
   "cell_type": "code",
   "execution_count": 11,
   "id": "87f7e833-6072-470f-85a8-45aec397f6f2",
   "metadata": {},
   "outputs": [
    {
     "data": {
      "text/plain": [
       "-0.3531651555686095"
      ]
     },
     "execution_count": 11,
     "metadata": {},
     "output_type": "execute_result"
    }
   ],
   "source": [
    "# compute the expectation value of ZZ based on the probabilities\n",
    "prob = result.quasi_dists[0]\n",
    "prob.get(0, 0) - prob.get(1, 0) - prob.get(2, 0) + prob.get(3, 0)"
   ]
  },
  {
   "cell_type": "code",
   "execution_count": 12,
   "id": "dc61a17b-1cb4-4d47-8da2-784865d5b313",
   "metadata": {},
   "outputs": [
    {
     "data": {
      "text/plain": [
       "EstimatorResult(values=array([-0.35316516]), metadata=[{}])"
      ]
     },
     "execution_count": 12,
     "metadata": {},
     "output_type": "execute_result"
    }
   ],
   "source": [
    "# verify the expectation value of ZZ with Estimator\n",
    "result = estimator.run(qc_estimator, z2, [1, 2, 3, 4, 5, 6]).result()\n",
    "result"
   ]
  },
  {
   "cell_type": "code",
   "execution_count": 13,
   "id": "75479794-9c97-41e1-9c44-fd351a790b8a",
   "metadata": {},
   "outputs": [],
   "source": [
    "# define a cost function to look for the minimum eigenvalue of ZZ\n",
    "def cost(x):\n",
    "    result = sampler.run(qc, x).result()\n",
    "    prob = result.quasi_dists[0]\n",
    "    expval = prob.get(0, 0) - prob.get(1, 0) - prob.get(2, 0) + prob.get(3, 0)\n",
    "    print(prob, expval)\n",
    "    return expval"
   ]
  },
  {
   "cell_type": "code",
   "execution_count": 14,
   "id": "96e62418-2b1a-482c-b35e-141c0d0a0d99",
   "metadata": {},
   "outputs": [
    {
     "name": "stdout",
     "output_type": "stream",
     "text": [
      "{0: 1.0} 1.0\n",
      "{0: 0.77015115293407, 1: 0.22984884706593} 0.5403023058681397\n",
      "{0: 0.77015115293407, 1: 0.22984884706593} 0.5403023058681397\n",
      "{0: 0.77015115293407, 1: 0.22984884706593} 0.5403023058681397\n",
      "{0: 0.593132798365677, 1: 0.177018354568393, 2: 0.177018354568393, 3: 0.052830492497537} 0.2919265817264289\n",
      "{0: 0.593132798365677, 1: 0.177018354568393, 2: 0.177018354568393, 3: 0.052830492497537} 0.29192658172642894\n",
      "{0: 0.593132798365677, 1: 0.177018354568393, 2: 0.177018354568393, 3: 0.052830492497537} 0.2919265817264289\n",
      "{0: 0.190553115473457, 1: 0.357095221094721, 2: 0.157394833510653, 3: 0.29495682992117} -0.028980109210747396\n",
      "{0: 0.016633330903608, 1: 0.185784342816186, 2: 0.065539982315244, 3: 0.732042343964962} 0.49735134973714035\n",
      "{0: 0.072402130935048, 1: 0.293743341512295, 2: 0.125339303503857, 3: 0.5085152240488} 0.1618347099676969\n",
      "{0: 0.190553115473457, 1: 0.357095221094721, 2: 0.157394833510653, 3: 0.29495682992117} -0.028980109210747618\n",
      "{0: 0.072402130935048, 1: 0.293743341512295, 2: 0.125339303503857, 3: 0.5085152240488} 0.16183470996769667\n",
      "{0: 0.190553115473457, 1: 0.357095221094721, 2: 0.157394833510653, 3: 0.29495682992117} -0.028980109210747618\n",
      "{0: 0.072402130935048, 1: 0.293743341512295, 2: 0.125339303503857, 3: 0.5085152240488} 0.16183470996769667\n",
      "{0: 0.190553115473457, 1: 0.357095221094721, 2: 0.157394833510653, 3: 0.29495682992117} -0.028980109210747618\n",
      "{0: 0.157672488084587, 1: 0.579877678917165, 2: 0.05610617422058, 3: 0.206343658777668} -0.27196770627548994\n",
      "{0: 0.175863524119388, 1: 0.7014761671751, 2: 0.024587368350673, 3: 0.098072940354839} -0.4521270710515467\n",
      "{0: 0.180469449493648, 1: 0.807248022525663, 2: 0.002244185332202, 3: 0.010038342648487} -0.61898441571573\n",
      "{0: 0.065734576132786, 1: 0.932276034698798, 2: 0.000131032328043, 3: 0.001858356840373} -0.8648141340536828\n",
      "{0: 0.007818491015365, 1: 0.949228221939214, 2: 0.000350902295885, 3: 0.042602384749537} -0.8991582484701974\n",
      "{0: 0.043684231903012, 1: 0.826019753835081, 2: 0.006544619084647, 3: 0.123751395177259} -0.6651287458394569\n",
      "{0: 0.007818491015365, 1: 0.949228221939213, 2: 0.000350902295885, 3: 0.042602384749537} -0.8991582484701972\n",
      "{0: 0.00771738940689, 1: 0.923458751745234, 2: 0.000570397474485, 3: 0.068253461373391} -0.8480582984394383\n",
      "{0: 0.01966896808113, 1: 0.929734373906399, 2: 0.001048220505919, 3: 0.049548437506552} -0.8615651888246353\n",
      "{0: 0.001028454496606, 1: 0.944196617091626, 2: 5.9597997471e-05, 3: 0.054715330414297} -0.8885124301781956\n",
      "{0: 0.008022533299557, 1: 0.990056935596724, 2: 1.5437172302e-05, 3: 0.001905093931418} -0.9801447455380515\n",
      "{0: 0.072630148318008, 1: 0.926080575926153, 2: 9.3761173377e-05, 3: 0.001195514582462} -0.8523486741990598\n",
      "{0: 0.014222228538785, 1: 0.983730850810296, 2: 2.9171485013e-05, 3: 0.002017749165906} -0.9675200445906184\n",
      "{0: 0.003770666401798, 1: 0.995786042939602, 2: 1.672242482e-06, 3: 0.000441618416118} -0.9915754303641686\n",
      "{0: 0.000171237968583, 1: 0.994909440914683, 2: 8.46538952e-07, 3: 0.004918474577782} -0.9898205749072697\n",
      "{0: 0.003770666401798, 1: 0.995786042939602, 2: 1.672242482e-06, 3: 0.000441618416118} -0.9915754303641686\n",
      "{0: 0.001797201422005, 1: 0.998130229006776, 2: 1.30431602e-07, 3: 7.2439139617e-05} -0.996260718876756\n",
      "{0: 0.004768971762628, 1: 0.993076168298575, 2: 1.0298658367e-05, 3: 0.00214456128043} -0.9861729339138846\n",
      "{0: 0.000844997857596, 1: 0.999146394334572, 2: 7.273642e-09, 3: 8.60053419e-06} -0.9982928032164275\n",
      "{0: 0.000623065527555, 1: 0.99909735161791, 2: 1.74247155e-07, 3: 0.000279408607379} -0.9981950517301313\n",
      "{0: 0.00177489537212, 1: 0.997801441371521, 2: 7.52276665e-07, 3: 0.000422910979694} -0.9956043872963711\n",
      "{0: 0.000128543867312, 1: 0.999837300185898, 2: 4.390688e-09, 3: 3.4151556102e-05} -0.9996746091531719\n",
      "{0: 0.000128543867312, 1: 0.999837300185899, 2: 4.390688e-09, 3: 3.4151556102e-05} -0.9996746091531721\n",
      "{0: 0.000236591729243, 1: 0.998239571323853, 2: 3.61077442e-07, 3: 0.001523475869462} -0.9964798648025887\n",
      "{0: 0.000133170361793, 1: 0.999813396687289, 2: 7.116066e-09, 3: 5.3425834851e-05} -0.9996268076067104\n",
      "{0: 6.4260413363e-05, 1: 0.998259956476612, 2: 1.07867278e-07, 3: 0.001675675242748} -0.9965201286877793\n",
      "{0: 0.001416883085549, 1: 0.998571703070992, 2: 1.6172266e-08, 3: 1.1397671192e-05} -0.9971434384865172\n",
      "{0: 8.8037349981e-05, 1: 0.999661119487012, 2: 2.2089108e-08, 3: 0.000250821073898} -0.9993222831522411\n",
      "{0: 0.000136355819373, 1: 0.999780988464268, 2: 1.127152e-08, 3: 8.264444484e-05} -0.9995619994715738\n",
      "{0: 1.09823394e-07, 1: 0.999980289990064, 2: 2.153e-12, 3: 1.960018439e-05} -0.9999605799844323\n",
      "{0: 0.000117037594554, 1: 0.999882953492508, 2: 1.043e-12, 3: 8.911895e-09} -0.9997659069871023\n",
      "{0: 8.63327578e-07, 1: 0.999963493202086, 2: 3.0773e-11, 3: 3.5643439563e-05} -0.9999269864657193\n",
      "{0: 4.679846548e-06, 1: 0.999632402064236, 2: 1.699018e-09, 3: 0.000362916390199} -0.9992648075265067\n",
      "{0: 4.613856e-08, 1: 0.999980111025747, 2: 9.16e-13, 3: 1.9842834778e-05} -0.9999602220533252\n",
      "{0: 2.9206094705e-05, 1: 0.999966693880016, 2: 1.19746e-10, 3: 4.099905533e-06} -0.9999333879995242\n",
      "{0: 1.09823394e-07, 1: 0.999980289990064, 2: 2.153e-12, 3: 1.960018439e-05} -0.9999605799844326\n",
      "{0: 7.7914407e-08, 1: 0.999677001029622, 2: 2.5168e-11, 3: 0.000322921030803} -0.99935400210958\n",
      "{0: 3.865619984e-06, 1: 0.999994389841759, 2: 6.744e-12, 3: 1.744531514e-06} -0.9999887796970047\n",
      "{0: 2.7502939707e-05, 1: 0.99995365802294, 2: 5.18139e-10, 3: 1.8838519214e-05} -0.9999073170821571\n",
      "{0: 1.2805870258e-05, 1: 0.999971593829683, 2: 1.99778e-10, 3: 1.5600100281e-05} -0.9999431880589221\n",
      "{0: 1.8400187233e-05, 1: 0.999981250835861, 2: 6.421e-12, 3: 3.48970485e-07} -0.9999625016845645\n",
      "{0: 7.090577346e-06, 1: 0.999952785453933, 2: 2.84514e-10, 3: 4.0123684208e-05} -0.9999055714768924\n",
      "{0: 7.030050068e-06, 1: 0.999992870068215, 2: 7.02e-13, 3: 9.9881015e-08} -0.9999857401378345\n",
      "{0: 3.780165587e-06, 1: 0.999994480399965, 2: 6.575e-12, 3: 1.739427874e-06} -0.9999889608130798\n",
      "{0: 2.711871199e-06, 1: 0.999992706402951, 2: 1.2425e-11, 3: 4.581713425e-06} -0.999985412830752\n",
      "{0: 1.523540195e-06, 1: 0.999992899253236, 2: 8.497e-12, 3: 5.577198072e-06} -0.9999857985234656\n",
      "{0: 4.549091708e-06, 1: 0.999994153985865, 2: 5.9e-12, 3: 1.296916528e-06} -0.9999883079835293\n",
      "{0: 4.932926505e-06, 1: 0.999988403806884, 2: 3.287e-11, 3: 6.663233742e-06} -0.9999768076795065\n",
      "{0: 1.114122944e-06, 1: 0.999997620831741, 2: 1.409e-12, 3: 1.265043906e-06} -0.9999952416663006\n",
      "{0: 2.1547602e-08, 1: 0.999999838639558, 2: 3e-15, 3: 1.39812837e-07} -0.9999996772791222\n",
      "{0: 2.077285912e-06, 1: 0.999997859139168, 2: 1.32e-13, 3: 6.3574788e-08} -0.9999957182786001\n",
      "{0: 1.9230792e-07, 1: 0.999999805561607, 2: 0.0, 3: 2.130473e-09} -0.9999996111232139\n",
      "{0: 1.18585916e-06, 1: 0.999998813051542, 2: 1e-15, 3: 1.089297e-09} -0.9999976261030864\n",
      "{0: 4.2497892e-08, 1: 0.999999871585912, 2: 4e-15, 3: 8.5916192e-08} -0.9999997431718314\n",
      "{0: 3.05578828e-07, 1: 0.999999686386379, 2: 2e-15, 3: 8.03479e-09} -0.9999993727727641\n",
      "{0: 5.6479144e-08, 1: 0.999996470679363, 2: 1.96e-13, 3: 3.472841298e-06} -0.9999929413591174\n",
      "{0: 6.79486734e-07, 1: 0.999999251646288, 2: 4.7e-14, 3: 6.8866931e-08} -0.9999985032926694\n",
      "{0: 2.86949408e-07, 1: 0.999999586654389, 2: 3.6e-14, 3: 1.26396166e-07} -0.9999991733088508\n",
      "{0: 4.4581041e-08, 1: 0.999999678744295, 2: 1.2e-14, 3: 2.76674652e-07} -0.9999993574886149\n",
      "{0: 2.646909e-08, 1: 0.999999718370856, 2: 7e-15, 3: 2.55160047e-07} -0.9999994367417246\n",
      "{0: 2.392163e-08, 1: 0.99999990072267, 2: 2e-15, 3: 7.5355698e-08} -0.9999998014453435\n",
      "{0: 3.840279e-09, 1: 0.99999997880091, 2: 0.0, 3: 1.7358811e-08} -0.9999999576018204\n",
      "{0: 1.6014057e-08, 1: 0.999999983238821, 3: 7.47123e-10} -0.9999999664776416\n",
      "{0: 6.788568e-09, 1: 0.999999955779137, 2: 0.0, 3: 3.7432294e-08} -0.9999999115582756\n",
      "{0: 1.0449292e-08, 1: 0.999999987462303, 3: 2.088405e-09} -0.9999999749246061\n",
      "{0: 8.486833e-09, 1: 0.999999909336316, 2: 1e-15, 3: 8.217685e-08} -0.9999998186726345\n",
      "{0: 1.13134564e-07, 1: 0.999999883383482, 2: 0.0, 3: 3.481954e-09} -0.9999997667669652\n",
      "{0: 1.3067738e-08, 1: 0.999999976836002, 2: 0.0, 3: 1.009626e-08} -0.9999999536720036\n",
      "{0: 4.126921e-09, 1: 0.999999982863855, 2: 0.0, 3: 1.3009224e-08} -0.9999999657277099\n",
      "{0: 2.932942e-09, 1: 0.999999982411821, 3: 1.4655237e-08} -0.9999999648236424\n",
      "{0: 8.48484e-10, 1: 0.999999991362978, 3: 7.788537e-09} -0.9999999827259566\n",
      "{0: 2.277452e-09, 1: 0.999999993834429, 3: 3.888119e-09} -0.9999999876688578\n",
      "{0: 4.509828e-09, 1: 0.999999995062262, 3: 4.2791e-10} -0.9999999901245238\n",
      "{0: 2.614712e-09, 1: 0.999999997081665, 3: 3.03623e-10} -0.9999999941633303\n",
      "{0: 1.164045e-09, 1: 0.999999992814416, 3: 6.021539e-09} -0.9999999856288327\n",
      "{0: 3.127083e-09, 1: 0.99999999612943, 3: 7.43486e-10} -0.9999999922588597\n",
      "{0: 4.914056e-09, 1: 0.999999994938196, 3: 1.47749e-10} -0.9999999898763917\n",
      "{0: 8.907076e-09, 1: 0.999999988500829, 3: 2.592095e-09} -0.999999977001658\n",
      "{0: 2.900855e-09, 1: 0.999999996467917, 3: 6.31228e-10} -0.9999999929358343\n",
      "{0: 3.09886e-10, 1: 0.999999999465754, 3: 2.2436e-10} -0.9999999989315077\n",
      "{0: 1.435388e-09, 1: 0.999999998520554, 3: 4.4057e-11} -0.9999999970411092\n",
      "{0: 4.91242e-10, 1: 0.999999999059013, 3: 4.49745e-10} -0.9999999981180254\n",
      "{0: 1.07191e-10, 1: 0.999999998032418, 3: 1.860391e-09} -0.9999999960648366\n",
      "{0: 2.36495e-10, 1: 0.999999999618449, 3: 1.45057e-10} -0.9999999992368972\n",
      "{0: 2.38102e-10, 1: 0.999999999422194, 3: 3.39704e-10} -0.9999999988443886\n",
      "{0: 3.68929e-10, 1: 0.999999998821431, 3: 8.0964e-10} -0.9999999976428612\n",
      "{0: 4.02203e-10, 1: 0.999999999591894, 3: 5.903e-12} -0.9999999991837881\n",
      "{0: 5.60095e-10, 1: 0.999999999401562, 3: 3.8342e-11} -0.999999998803125\n",
      "{0: 1.67891e-10, 1: 0.999999999831133, 3: 9.76e-13} -0.9999999996622669\n",
      "{0: 1.80395e-10, 1: 0.999999999819593, 3: 1.2e-14} -0.9999999996391864\n",
      "{0: 2.06622e-10, 1: 0.999999999765153, 3: 2.8224e-11} -0.9999999995303068\n",
      "{0: 2.68562e-10, 1: 0.999999999653195, 3: 7.8244e-11} -0.9999999993063889\n",
      "{0: 1.5496e-10, 1: 0.999999999844777, 3: 2.64e-13} -0.999999999689553\n",
      "{0: 2.87051e-10, 1: 0.999999999708841, 3: 4.108e-12} -0.9999999994176818\n",
      "{0: 2.12927e-10, 1: 0.99999999976014, 3: 2.6933e-11} -0.999999999520281\n",
      "{0: 1.5073e-10, 1: 0.999999999659258, 3: 1.90012e-10} -0.9999999993185151\n",
      "{0: 2.5121e-11, 1: 0.999999999971413, 3: 3.466e-12} -0.9999999999428262\n",
      "{0: 2.779e-12, 1: 0.999999999994259, 3: 2.962e-12} -0.9999999999885185\n",
      "{0: 1.5206e-11, 1: 0.999999999984552, 3: 2.42e-13} -0.9999999999691033\n",
      "{0: 2.97e-12, 1: 0.999999999995305, 3: 1.725e-12} -0.9999999999906105\n",
      "{0: 1.6424e-11, 1: 0.999999999977538, 3: 6.038e-12} -0.9999999999550757\n",
      "{0: 3.254e-12, 1: 0.999999999995364, 3: 1.381e-12} -0.9999999999907289\n",
      "{0: 2.2264e-11, 1: 0.999999999967254, 3: 1.0483e-11} -0.9999999999345072\n",
      "{0: 3.707e-12, 1: 0.999999999972153, 3: 2.414e-11} -0.9999999999443066\n",
      "{0: 8.638e-12, 1: 0.999999999989821, 3: 1.54e-12} -0.9999999999796425\n",
      "{0: 2.003e-12, 1: 0.999999999997972, 3: 2.6e-14} -0.9999999999959432\n",
      "{0: 1.73e-12, 1: 0.99999999999814, 3: 1.31e-13} -0.9999999999962793\n",
      "{0: 1.558e-12, 1: 0.999999999984873, 3: 1.3569e-11} -0.9999999999697463\n",
      "{0: 5.727e-12, 1: 0.999999999993048, 3: 1.224e-12} -0.9999999999860969\n",
      "{0: 1.557e-12, 1: 0.999999999998231, 3: 2.12e-13} -0.9999999999964624\n",
      "{0: 3.99e-13, 1: 0.999999999999462, 3: 1.4e-13} -0.9999999999989241\n",
      "{0: 3.72e-13, 1: 0.999999999999459, 3: 1.69e-13} -0.9999999999989174\n",
      "{0: 5.2e-14, 1: 0.999999999995194, 3: 4.753e-12} -0.9999999999903879\n",
      "{0: 1.2e-12, 1: 0.99999999999874, 3: 5.9e-14} -0.9999999999974809\n",
      "{0: 9.36e-13, 1: 0.999999999998875, 3: 1.89e-13} -0.9999999999977499\n",
      "{0: 2.87e-13, 1: 0.999999999999554, 3: 1.59e-13} -0.9999999999991069\n",
      "{0: 8.5e-14, 1: 0.999999999999915, 3: 0.0} -0.9999999999998298\n",
      "{0: 1.06e-13, 1: 0.999999999999888, 3: 6e-15} -0.9999999999997762\n",
      "{0: 1.016e-12, 1: 0.999999999998751, 3: 2.32e-13} -0.9999999999975026\n",
      "{0: 3.4e-14, 1: 0.999999999999965, 3: 1e-15} -0.9999999999999308\n",
      "{0: 9e-15, 1: 0.999999999999754, 3: 2.36e-13} -0.9999999999995088\n",
      "{0: 3.2e-14, 1: 0.999999999999967, 3: 2e-15} -0.9999999999999333\n",
      "{0: 3.24e-13, 1: 0.999999999999639, 3: 3.8e-14} -0.9999999999992777\n",
      "{0: 5.3e-14, 1: 0.999999999999938, 3: 9e-15} -0.9999999999998764\n",
      "{0: 5.4e-14, 1: 0.999999999999915, 3: 3.1e-14} -0.9999999999998292\n",
      "{0: 2.4e-14, 1: 0.999999999999966, 3: 1e-14} -0.9999999999999313\n",
      "{1: 0.999999999999805, 3: 1.95e-13} -0.9999999999996094\n",
      "{0: 1.02e-13, 1: 0.999999999999883, 3: 1.5e-14} -0.9999999999997651\n",
      "{0: 1.6e-14, 1: 0.999999999999984, 3: 1e-15} -0.9999999999999674\n",
      "{0: 3e-15, 1: 0.999999999999988, 3: 9e-15} -0.9999999999999762\n",
      "{0: 4.4e-14, 1: 0.999999999999953, 3: 3e-15} -0.9999999999999065\n",
      "{0: 1e-15, 1: 0.999999999999962, 3: 3.6e-14} -0.999999999999925\n",
      "{0: 3e-15, 1: 0.999999999999989, 3: 9e-15} -0.9999999999999771\n",
      "{0: 2e-15, 1: 0.999999999999992, 3: 6e-15} -0.999999999999985\n",
      "{0: 1e-15, 1: 0.999999999999991, 3: 8e-15} -0.999999999999981\n",
      "{1: 0.999999999999997, 3: 3e-15} -0.9999999999999933\n",
      "{0: 2e-15, 1: 0.999999999999991, 3: 7e-15} -0.9999999999999813\n",
      "{1: 0.999999999999996, 3: 4e-15} -0.9999999999999929\n",
      "{0: 1.2e-14, 1: 0.999999999999986, 3: 2e-15} -0.9999999999999718\n",
      "{0: 0.0, 1: 0.999999999999996, 3: 4e-15} -0.999999999999991\n",
      "{1: 0.999999999999997, 3: 3e-15} -0.9999999999999943\n",
      "{0: 0.0, 1: 1.0} -0.9999999999999992\n",
      "{0: 0.0, 1: 1.0} -0.9999999999999994\n",
      "{0: 1e-15, 1: 0.999999999999998, 3: 1e-15} -0.9999999999999962\n",
      "{0: 1e-15, 1: 0.999999999999999} -0.9999999999999978\n",
      "{0: 2e-15, 1: 0.999999999999998, 3: 0.0} -0.9999999999999957\n",
      "{0: 0.0, 1: 1.0} -0.9999999999999994\n",
      "{0: 0.0, 1: 1.0} -0.9999999999999994\n",
      "{0: 0.0, 1: 1.0, 3: 1e-15} -0.9999999999999986\n",
      "{1: 1.0} -0.9999999999999998\n",
      "{1: 1.0} -1.0\n",
      "{1: 1.0, 3: 0.0} -0.9999999999999992\n",
      "{1: 1.0} -0.9999999999999998\n",
      "{1: 1.0} -1.0\n",
      "{0: 0.0, 1: 1.0} -0.9999999999999999\n",
      "{0: 0.0, 1: 1.0} -0.9999999999999992\n",
      "{0: 0.0, 1: 1.0} -0.9999999999999999\n",
      "{1: 1.0, 3: 0.0} -0.9999999999999997\n",
      "{0: 0.0, 1: 1.0} -0.9999999999999999\n",
      "{1: 1.0, 3: 0.0} -0.9999999999999999\n",
      "{1: 1.0} -0.9999999999999998\n"
     ]
    },
    {
     "data": {
      "text/plain": [
       " message: Optimization terminated successfully.\n",
       " success: True\n",
       "  status: 1\n",
       "     fun: -0.9999999999999998\n",
       "       x: [ 3.142e+00  3.086e-01 -1.633e-01 -1.369e-08 -2.451e-02\n",
       "           -9.014e-01]\n",
       "    nfev: 176\n",
       "   maxcv: 0.0"
      ]
     },
     "execution_count": 14,
     "metadata": {},
     "output_type": "execute_result"
    }
   ],
   "source": [
    "# minimize the cost function with scipy's minimize\n",
    "min_result = minimize(cost, [0, 0, 0, 0, 0, 0], method=\"COBYLA\", tol=1e-8)\n",
    "min_result"
   ]
  },
  {
   "cell_type": "code",
   "execution_count": 15,
   "id": "a69eb49a-5766-4a09-9cbb-b5dd315b6187",
   "metadata": {},
   "outputs": [
    {
     "data": {
      "text/plain": [
       "SamplerResult(quasi_dists=[{1: 1.0}], metadata=[{}])"
      ]
     },
     "execution_count": 15,
     "metadata": {},
     "output_type": "execute_result"
    }
   ],
   "source": [
    "# check probabilities of bitstrings with the optimal parameters\n",
    "result = sampler.run(qc, min_result.x).result()\n",
    "result"
   ]
  },
  {
   "cell_type": "code",
   "execution_count": null,
   "id": "e731b5e3-dcf3-4b8b-976a-a1bc1ec374cf",
   "metadata": {},
   "outputs": [],
   "source": []
  }
 ],
 "metadata": {
  "kernelspec": {
   "display_name": "Python 3 (ipykernel)",
   "language": "python",
   "name": "python3"
  },
  "language_info": {
   "codemirror_mode": {
    "name": "ipython",
    "version": 3
   },
   "file_extension": ".py",
   "mimetype": "text/x-python",
   "name": "python",
   "nbconvert_exporter": "python",
   "pygments_lexer": "ipython3",
   "version": "3.10.14"
  }
 },
 "nbformat": 4,
 "nbformat_minor": 5
}
